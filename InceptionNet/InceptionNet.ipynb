{
 "cells": [
  {
   "cell_type": "code",
   "execution_count": 2,
   "metadata": {},
   "outputs": [],
   "source": [
    "import nibabel as nib\n",
    "import numpy as np\n",
    "import pandas as pd\n",
    "import matplotlib.pyplot as plt\n",
    "import torch\n",
    "from torch.utils.data import Dataset, DataLoader\n",
    "import torch.nn as nn\n",
    "import torch.optim as optim\n",
    "from sklearn.model_selection import train_test_split\n",
    "from sklearn.metrics import accuracy_score, confusion_matrix"
   ]
  },
  {
   "cell_type": "code",
   "execution_count": 3,
   "metadata": {},
   "outputs": [],
   "source": [
    "# Load the CT volume and infection mask\n",
    "ct_volume = nib.load(r'C:\\Users\\BAPS\\Documents\\Dicom Analaysis\\Dicom_Analyzer\\Slice_Classifier\\Dataset\\Covid_Dataset\\ct_scans\\coronacases_org_001.nii').get_fdata()          # Shape: (512, 512, num_slices)\n",
    "infection_mask = nib.load(r'C:\\Users\\BAPS\\Documents\\Dicom Analaysis\\Dicom_Analyzer\\Slice_Classifier\\Dataset\\Covid_Dataset\\infection_mask\\coronacases_001.nii').get_fdata()  # Same shape as ct_volume\n",
    "\n",
    "\n",
    "# Verify shapes match\n",
    "assert ct_volume.shape == infection_mask.shape, \"CT and mask shapes do not match!\""
   ]
  },
  {
   "cell_type": "code",
   "execution_count": 4,
   "metadata": {},
   "outputs": [
    {
     "name": "stdout",
     "output_type": "stream",
     "text": [
      "Total slices: 301\n",
      "Abnormal slices: 161 (53.49%)\n"
     ]
    }
   ],
   "source": [
    "# Identify slices with infections (1) vs. normal (0)\n",
    "abnormal_slices = []\n",
    "for slice_idx in range(infection_mask.shape[2]):\n",
    "    if np.any(infection_mask[:, :, slice_idx]):\n",
    "        abnormal_slices.append(1)\n",
    "    else:\n",
    "        abnormal_slices.append(0)\n",
    "\n",
    "# Create DataFrame\n",
    "df = pd.DataFrame({\n",
    "    'slice_number': list(range(infection_mask.shape[2])),  # 0-based index\n",
    "    'label': abnormal_slices\n",
    "})\n",
    "\n",
    "print(f\"Total slices: {len(df)}\")\n",
    "print(f\"Abnormal slices: {df['label'].sum()} ({(df['label'].sum()/len(df))*100:.2f}%)\")"
   ]
  },
  {
   "cell_type": "code",
   "execution_count": 5,
   "metadata": {},
   "outputs": [
    {
     "name": "stdout",
     "output_type": "stream",
     "text": [
      "Train slices: 240\n",
      "Test slices: 61\n"
     ]
    }
   ],
   "source": [
    "# Split into train/test (stratify to preserve class balance)\n",
    "X = df['slice_number'].values  # Slice indices (0-based)\n",
    "y = df['label'].values\n",
    "\n",
    "X_train, X_test, y_train, y_test = train_test_split(\n",
    "    X, y, \n",
    "    test_size=0.2, \n",
    "    stratify=y,  # Critical for imbalanced data\n",
    "    random_state=42\n",
    ")\n",
    "\n",
    "print(f\"Train slices: {len(X_train)}\")\n",
    "print(f\"Test slices: {len(X_test)}\")"
   ]
  },
  {
   "cell_type": "code",
   "execution_count": 9,
   "metadata": {},
   "outputs": [
    {
     "name": "stdout",
     "output_type": "stream",
     "text": [
      "Computing dataset statistics...\n",
      "Initialized CTDataset with 240 samples.\n",
      "Dataset mean: 0.1509, Dataset std: 0.1687\n",
      "Creating training and test datasets with augmentations...\n",
      "Initialized CTDataset with 240 samples.\n",
      "Initialized CTDataset with 61 samples.\n",
      "Train dataset size: 240\n",
      "Test dataset size: 61\n",
      "Creating DataLoaders...\n",
      "Defining the model...\n",
      "Using device: cpu\n",
      "Setting up training...\n",
      "Starting training on CPU...\n",
      "\n",
      "=== Epoch 1 ===\n"
     ]
    },
    {
     "data": {
      "application/vnd.jupyter.widget-view+json": {
       "model_id": "960111dcfc4b49818bbecac284c724b7",
       "version_major": 2,
       "version_minor": 0
      },
      "text/plain": [
       "Epoch 1 Batches:   0%|          | 0/15 [00:00<?, ?it/s]"
      ]
     },
     "metadata": {},
     "output_type": "display_data"
    },
    {
     "name": "stdout",
     "output_type": "stream",
     "text": [
      "Epoch 1 completed in 281.5s with average loss: 0.6199\n",
      "Running validation...\n"
     ]
    },
    {
     "data": {
      "application/vnd.jupyter.widget-view+json": {
       "model_id": "6d3e0c3b831f4a87b913be32250a769f",
       "version_major": 2,
       "version_minor": 0
      },
      "text/plain": [
       "Validation:   0%|          | 0/2 [00:00<?, ?it/s]"
      ]
     },
     "metadata": {},
     "output_type": "display_data"
    },
    {
     "name": "stdout",
     "output_type": "stream",
     "text": [
      "Epoch 1: Train Loss: 0.6199 | Val AUC: 0.9773\n",
      "Best model updated and saved as best_model.pth\n",
      "\n",
      "=== Epoch 2 ===\n"
     ]
    },
    {
     "data": {
      "application/vnd.jupyter.widget-view+json": {
       "model_id": "cccd595deb2344e09ad07f636ec0e5bd",
       "version_major": 2,
       "version_minor": 0
      },
      "text/plain": [
       "Epoch 2 Batches:   0%|          | 0/15 [00:00<?, ?it/s]"
      ]
     },
     "metadata": {},
     "output_type": "display_data"
    },
    {
     "name": "stdout",
     "output_type": "stream",
     "text": [
      "Epoch 2 completed in 276.3s with average loss: 0.5539\n",
      "Running validation...\n"
     ]
    },
    {
     "data": {
      "application/vnd.jupyter.widget-view+json": {
       "model_id": "fb2adc03465243fe87a5b6a9ff5fac0e",
       "version_major": 2,
       "version_minor": 0
      },
      "text/plain": [
       "Validation:   0%|          | 0/2 [00:00<?, ?it/s]"
      ]
     },
     "metadata": {},
     "output_type": "display_data"
    },
    {
     "name": "stdout",
     "output_type": "stream",
     "text": [
      "Epoch 2: Train Loss: 0.5539 | Val AUC: 1.0000\n",
      "Best model updated and saved as best_model.pth\n",
      "\n",
      "=== Epoch 3 ===\n"
     ]
    },
    {
     "data": {
      "application/vnd.jupyter.widget-view+json": {
       "model_id": "ae75844be0c5475ea79194fb3b92c54c",
       "version_major": 2,
       "version_minor": 0
      },
      "text/plain": [
       "Epoch 3 Batches:   0%|          | 0/15 [00:00<?, ?it/s]"
      ]
     },
     "metadata": {},
     "output_type": "display_data"
    },
    {
     "name": "stdout",
     "output_type": "stream",
     "text": [
      "Epoch 3 completed in 258.9s with average loss: 0.4147\n",
      "Running validation...\n"
     ]
    },
    {
     "data": {
      "application/vnd.jupyter.widget-view+json": {
       "model_id": "a09209cded71465f83c4c1b6a28cc567",
       "version_major": 2,
       "version_minor": 0
      },
      "text/plain": [
       "Validation:   0%|          | 0/2 [00:00<?, ?it/s]"
      ]
     },
     "metadata": {},
     "output_type": "display_data"
    },
    {
     "name": "stdout",
     "output_type": "stream",
     "text": [
      "Epoch 3: Train Loss: 0.4147 | Val AUC: 1.0000\n",
      "No improvement. Patience: 1/50\n",
      "\n",
      "=== Epoch 4 ===\n"
     ]
    },
    {
     "data": {
      "application/vnd.jupyter.widget-view+json": {
       "model_id": "2e2759b528e1460981a3b8079fe56be0",
       "version_major": 2,
       "version_minor": 0
      },
      "text/plain": [
       "Epoch 4 Batches:   0%|          | 0/15 [00:00<?, ?it/s]"
      ]
     },
     "metadata": {},
     "output_type": "display_data"
    },
    {
     "name": "stdout",
     "output_type": "stream",
     "text": [
      "Epoch 4 completed in 254.8s with average loss: 0.2383\n",
      "Running validation...\n"
     ]
    },
    {
     "data": {
      "application/vnd.jupyter.widget-view+json": {
       "model_id": "46ac3fdf11ea4f6bb553c64b6685e29d",
       "version_major": 2,
       "version_minor": 0
      },
      "text/plain": [
       "Validation:   0%|          | 0/2 [00:00<?, ?it/s]"
      ]
     },
     "metadata": {},
     "output_type": "display_data"
    },
    {
     "name": "stdout",
     "output_type": "stream",
     "text": [
      "Epoch 4: Train Loss: 0.2383 | Val AUC: 1.0000\n",
      "No improvement. Patience: 2/50\n",
      "\n",
      "=== Epoch 5 ===\n"
     ]
    },
    {
     "data": {
      "application/vnd.jupyter.widget-view+json": {
       "model_id": "fdcf6d77ae8543fb9e8ba8fae1d9fefd",
       "version_major": 2,
       "version_minor": 0
      },
      "text/plain": [
       "Epoch 5 Batches:   0%|          | 0/15 [00:00<?, ?it/s]"
      ]
     },
     "metadata": {},
     "output_type": "display_data"
    },
    {
     "name": "stdout",
     "output_type": "stream",
     "text": [
      "Epoch 5 completed in 249.7s with average loss: 0.0797\n",
      "Running validation...\n"
     ]
    },
    {
     "data": {
      "application/vnd.jupyter.widget-view+json": {
       "model_id": "4551b0e7795f433b8378096915c41d00",
       "version_major": 2,
       "version_minor": 0
      },
      "text/plain": [
       "Validation:   0%|          | 0/2 [00:00<?, ?it/s]"
      ]
     },
     "metadata": {},
     "output_type": "display_data"
    },
    {
     "name": "stdout",
     "output_type": "stream",
     "text": [
      "Epoch 5: Train Loss: 0.0797 | Val AUC: 1.0000\n",
      "No improvement. Patience: 3/50\n",
      "\n",
      "=== Epoch 6 ===\n"
     ]
    },
    {
     "data": {
      "application/vnd.jupyter.widget-view+json": {
       "model_id": "0ce2220581324d588fc67c3788268160",
       "version_major": 2,
       "version_minor": 0
      },
      "text/plain": [
       "Epoch 6 Batches:   0%|          | 0/15 [00:00<?, ?it/s]"
      ]
     },
     "metadata": {},
     "output_type": "display_data"
    },
    {
     "name": "stdout",
     "output_type": "stream",
     "text": [
      "Epoch 6 completed in 248.0s with average loss: 0.0446\n",
      "Running validation...\n"
     ]
    },
    {
     "data": {
      "application/vnd.jupyter.widget-view+json": {
       "model_id": "293187a4e7b34f44a1c76d5b2698e864",
       "version_major": 2,
       "version_minor": 0
      },
      "text/plain": [
       "Validation:   0%|          | 0/2 [00:00<?, ?it/s]"
      ]
     },
     "metadata": {},
     "output_type": "display_data"
    },
    {
     "name": "stdout",
     "output_type": "stream",
     "text": [
      "Epoch 6: Train Loss: 0.0446 | Val AUC: 1.0000\n",
      "No improvement. Patience: 4/50\n",
      "\n",
      "=== Epoch 7 ===\n"
     ]
    },
    {
     "data": {
      "application/vnd.jupyter.widget-view+json": {
       "model_id": "4d4c85b8412547e4b17b50a408b2e6d4",
       "version_major": 2,
       "version_minor": 0
      },
      "text/plain": [
       "Epoch 7 Batches:   0%|          | 0/15 [00:00<?, ?it/s]"
      ]
     },
     "metadata": {},
     "output_type": "display_data"
    },
    {
     "name": "stdout",
     "output_type": "stream",
     "text": [
      "Epoch 7 completed in 237.9s with average loss: 0.0657\n",
      "Running validation...\n"
     ]
    },
    {
     "data": {
      "application/vnd.jupyter.widget-view+json": {
       "model_id": "5a32b3e9266b4506b4c33ba17f2cee48",
       "version_major": 2,
       "version_minor": 0
      },
      "text/plain": [
       "Validation:   0%|          | 0/2 [00:00<?, ?it/s]"
      ]
     },
     "metadata": {},
     "output_type": "display_data"
    },
    {
     "name": "stdout",
     "output_type": "stream",
     "text": [
      "Epoch 7: Train Loss: 0.0657 | Val AUC: 0.9903\n",
      "No improvement. Patience: 5/50\n",
      "\n",
      "=== Epoch 8 ===\n"
     ]
    },
    {
     "data": {
      "application/vnd.jupyter.widget-view+json": {
       "model_id": "57c2e2514f084c4fa13cddcdad92ae71",
       "version_major": 2,
       "version_minor": 0
      },
      "text/plain": [
       "Epoch 8 Batches:   0%|          | 0/15 [00:00<?, ?it/s]"
      ]
     },
     "metadata": {},
     "output_type": "display_data"
    },
    {
     "name": "stdout",
     "output_type": "stream",
     "text": [
      "Epoch 8 completed in 279.4s with average loss: 0.0889\n",
      "Running validation...\n"
     ]
    },
    {
     "data": {
      "application/vnd.jupyter.widget-view+json": {
       "model_id": "312cc6add1ee4af0af917b50419139ab",
       "version_major": 2,
       "version_minor": 0
      },
      "text/plain": [
       "Validation:   0%|          | 0/2 [00:00<?, ?it/s]"
      ]
     },
     "metadata": {},
     "output_type": "display_data"
    },
    {
     "name": "stdout",
     "output_type": "stream",
     "text": [
      "Epoch 8: Train Loss: 0.0889 | Val AUC: 1.0000\n",
      "No improvement. Patience: 6/50\n",
      "\n",
      "=== Epoch 9 ===\n"
     ]
    },
    {
     "data": {
      "application/vnd.jupyter.widget-view+json": {
       "model_id": "01260a6b397c4ec59f8d8e3be1007f9e",
       "version_major": 2,
       "version_minor": 0
      },
      "text/plain": [
       "Epoch 9 Batches:   0%|          | 0/15 [00:00<?, ?it/s]"
      ]
     },
     "metadata": {},
     "output_type": "display_data"
    },
    {
     "name": "stdout",
     "output_type": "stream",
     "text": [
      "Epoch 9 completed in 352.3s with average loss: 0.0676\n",
      "Running validation...\n"
     ]
    },
    {
     "data": {
      "application/vnd.jupyter.widget-view+json": {
       "model_id": "9a094230e77941a0bd564c30761334ee",
       "version_major": 2,
       "version_minor": 0
      },
      "text/plain": [
       "Validation:   0%|          | 0/2 [00:00<?, ?it/s]"
      ]
     },
     "metadata": {},
     "output_type": "display_data"
    },
    {
     "name": "stdout",
     "output_type": "stream",
     "text": [
      "Epoch 9: Train Loss: 0.0676 | Val AUC: 1.0000\n",
      "No improvement. Patience: 7/50\n",
      "\n",
      "=== Epoch 10 ===\n"
     ]
    },
    {
     "data": {
      "application/vnd.jupyter.widget-view+json": {
       "model_id": "9b8bb73ecff84afbba3df554eb797cad",
       "version_major": 2,
       "version_minor": 0
      },
      "text/plain": [
       "Epoch 10 Batches:   0%|          | 0/15 [00:00<?, ?it/s]"
      ]
     },
     "metadata": {},
     "output_type": "display_data"
    },
    {
     "name": "stdout",
     "output_type": "stream",
     "text": [
      "Epoch 10 completed in 300.5s with average loss: 0.1052\n",
      "Running validation...\n"
     ]
    },
    {
     "data": {
      "application/vnd.jupyter.widget-view+json": {
       "model_id": "8a4b41a86d324a58b78feee73efdbca5",
       "version_major": 2,
       "version_minor": 0
      },
      "text/plain": [
       "Validation:   0%|          | 0/2 [00:00<?, ?it/s]"
      ]
     },
     "metadata": {},
     "output_type": "display_data"
    },
    {
     "name": "stdout",
     "output_type": "stream",
     "text": [
      "Epoch 10: Train Loss: 0.1052 | Val AUC: 1.0000\n",
      "No improvement. Patience: 8/50\n",
      "\n",
      "=== Epoch 11 ===\n"
     ]
    },
    {
     "data": {
      "application/vnd.jupyter.widget-view+json": {
       "model_id": "636e425dea304dcbb8d6d1ba5008649c",
       "version_major": 2,
       "version_minor": 0
      },
      "text/plain": [
       "Epoch 11 Batches:   0%|          | 0/15 [00:00<?, ?it/s]"
      ]
     },
     "metadata": {},
     "output_type": "display_data"
    },
    {
     "name": "stdout",
     "output_type": "stream",
     "text": [
      "Epoch 11 completed in 268.5s with average loss: 0.0460\n",
      "Running validation...\n"
     ]
    },
    {
     "data": {
      "application/vnd.jupyter.widget-view+json": {
       "model_id": "2ca846d2296d4d38b87bfb86cdbcf0c3",
       "version_major": 2,
       "version_minor": 0
      },
      "text/plain": [
       "Validation:   0%|          | 0/2 [00:00<?, ?it/s]"
      ]
     },
     "metadata": {},
     "output_type": "display_data"
    },
    {
     "name": "stdout",
     "output_type": "stream",
     "text": [
      "Epoch 11: Train Loss: 0.0460 | Val AUC: 1.0000\n",
      "No improvement. Patience: 9/50\n",
      "\n",
      "=== Epoch 12 ===\n"
     ]
    },
    {
     "data": {
      "application/vnd.jupyter.widget-view+json": {
       "model_id": "b05a36cba5b6454793d22a367bd6e1cf",
       "version_major": 2,
       "version_minor": 0
      },
      "text/plain": [
       "Epoch 12 Batches:   0%|          | 0/15 [00:00<?, ?it/s]"
      ]
     },
     "metadata": {},
     "output_type": "display_data"
    },
    {
     "name": "stdout",
     "output_type": "stream",
     "text": [
      "Epoch 12 completed in 241.2s with average loss: 0.0380\n",
      "Running validation...\n"
     ]
    },
    {
     "data": {
      "application/vnd.jupyter.widget-view+json": {
       "model_id": "39cbe453ce9d4ca0bcbca48e267ea3d7",
       "version_major": 2,
       "version_minor": 0
      },
      "text/plain": [
       "Validation:   0%|          | 0/2 [00:00<?, ?it/s]"
      ]
     },
     "metadata": {},
     "output_type": "display_data"
    },
    {
     "name": "stdout",
     "output_type": "stream",
     "text": [
      "Epoch 12: Train Loss: 0.0380 | Val AUC: 1.0000\n",
      "No improvement. Patience: 10/50\n",
      "\n",
      "=== Epoch 13 ===\n"
     ]
    },
    {
     "data": {
      "application/vnd.jupyter.widget-view+json": {
       "model_id": "e1aa6609293b480f8e7ba5f3aba44af5",
       "version_major": 2,
       "version_minor": 0
      },
      "text/plain": [
       "Epoch 13 Batches:   0%|          | 0/15 [00:00<?, ?it/s]"
      ]
     },
     "metadata": {},
     "output_type": "display_data"
    },
    {
     "name": "stdout",
     "output_type": "stream",
     "text": [
      "Epoch 13 completed in 296.5s with average loss: 0.0600\n",
      "Running validation...\n"
     ]
    },
    {
     "data": {
      "application/vnd.jupyter.widget-view+json": {
       "model_id": "0791758efab54215a7de814426290dbf",
       "version_major": 2,
       "version_minor": 0
      },
      "text/plain": [
       "Validation:   0%|          | 0/2 [00:00<?, ?it/s]"
      ]
     },
     "metadata": {},
     "output_type": "display_data"
    },
    {
     "name": "stdout",
     "output_type": "stream",
     "text": [
      "Epoch 13: Train Loss: 0.0600 | Val AUC: 1.0000\n",
      "No improvement. Patience: 11/50\n",
      "\n",
      "=== Epoch 14 ===\n"
     ]
    },
    {
     "data": {
      "application/vnd.jupyter.widget-view+json": {
       "model_id": "b4ab130512e64883b715e0c4fcd8aa30",
       "version_major": 2,
       "version_minor": 0
      },
      "text/plain": [
       "Epoch 14 Batches:   0%|          | 0/15 [00:00<?, ?it/s]"
      ]
     },
     "metadata": {},
     "output_type": "display_data"
    },
    {
     "name": "stdout",
     "output_type": "stream",
     "text": [
      "Epoch 14 completed in 294.3s with average loss: 0.0448\n",
      "Running validation...\n"
     ]
    },
    {
     "data": {
      "application/vnd.jupyter.widget-view+json": {
       "model_id": "ff812fe3c0e849888edb3b6d679e6547",
       "version_major": 2,
       "version_minor": 0
      },
      "text/plain": [
       "Validation:   0%|          | 0/2 [00:00<?, ?it/s]"
      ]
     },
     "metadata": {},
     "output_type": "display_data"
    },
    {
     "name": "stdout",
     "output_type": "stream",
     "text": [
      "Epoch 14: Train Loss: 0.0448 | Val AUC: 0.9870\n",
      "No improvement. Patience: 12/50\n",
      "\n",
      "=== Epoch 15 ===\n"
     ]
    },
    {
     "data": {
      "application/vnd.jupyter.widget-view+json": {
       "model_id": "579d2d5f9b7f488eaaa83f0d725eff52",
       "version_major": 2,
       "version_minor": 0
      },
      "text/plain": [
       "Epoch 15 Batches:   0%|          | 0/15 [00:00<?, ?it/s]"
      ]
     },
     "metadata": {},
     "output_type": "display_data"
    },
    {
     "name": "stdout",
     "output_type": "stream",
     "text": [
      "Epoch 15 completed in 287.6s with average loss: 0.0472\n",
      "Running validation...\n"
     ]
    },
    {
     "data": {
      "application/vnd.jupyter.widget-view+json": {
       "model_id": "22dd2cc94eca48a99dec2b19931840f0",
       "version_major": 2,
       "version_minor": 0
      },
      "text/plain": [
       "Validation:   0%|          | 0/2 [00:00<?, ?it/s]"
      ]
     },
     "metadata": {},
     "output_type": "display_data"
    },
    {
     "name": "stdout",
     "output_type": "stream",
     "text": [
      "Epoch 15: Train Loss: 0.0472 | Val AUC: 1.0000\n",
      "No improvement. Patience: 13/50\n",
      "\n",
      "=== Epoch 16 ===\n"
     ]
    },
    {
     "data": {
      "application/vnd.jupyter.widget-view+json": {
       "model_id": "58b99bd902a74eae9a7dfa0967cefd6c",
       "version_major": 2,
       "version_minor": 0
      },
      "text/plain": [
       "Epoch 16 Batches:   0%|          | 0/15 [00:00<?, ?it/s]"
      ]
     },
     "metadata": {},
     "output_type": "display_data"
    },
    {
     "name": "stdout",
     "output_type": "stream",
     "text": [
      "Epoch 16 completed in 296.2s with average loss: 0.0404\n",
      "Running validation...\n"
     ]
    },
    {
     "data": {
      "application/vnd.jupyter.widget-view+json": {
       "model_id": "e8769b96853140eba62d4978cd491a91",
       "version_major": 2,
       "version_minor": 0
      },
      "text/plain": [
       "Validation:   0%|          | 0/2 [00:00<?, ?it/s]"
      ]
     },
     "metadata": {},
     "output_type": "display_data"
    },
    {
     "name": "stdout",
     "output_type": "stream",
     "text": [
      "Epoch 16: Train Loss: 0.0404 | Val AUC: 1.0000\n",
      "No improvement. Patience: 14/50\n",
      "\n",
      "=== Epoch 17 ===\n"
     ]
    },
    {
     "data": {
      "application/vnd.jupyter.widget-view+json": {
       "model_id": "2f9a1f6e1fb040638a0e0d802c1618da",
       "version_major": 2,
       "version_minor": 0
      },
      "text/plain": [
       "Epoch 17 Batches:   0%|          | 0/15 [00:00<?, ?it/s]"
      ]
     },
     "metadata": {},
     "output_type": "display_data"
    },
    {
     "name": "stdout",
     "output_type": "stream",
     "text": [
      "Epoch 17 completed in 290.4s with average loss: 0.0566\n",
      "Running validation...\n"
     ]
    },
    {
     "data": {
      "application/vnd.jupyter.widget-view+json": {
       "model_id": "fcaebd20e9914d6898f29f09d7f142dd",
       "version_major": 2,
       "version_minor": 0
      },
      "text/plain": [
       "Validation:   0%|          | 0/2 [00:00<?, ?it/s]"
      ]
     },
     "metadata": {},
     "output_type": "display_data"
    },
    {
     "name": "stdout",
     "output_type": "stream",
     "text": [
      "Epoch 17: Train Loss: 0.0566 | Val AUC: 1.0000\n",
      "No improvement. Patience: 15/50\n",
      "\n",
      "=== Epoch 18 ===\n"
     ]
    },
    {
     "data": {
      "application/vnd.jupyter.widget-view+json": {
       "model_id": "3f2ae32a200843cfb492b33bb28b337f",
       "version_major": 2,
       "version_minor": 0
      },
      "text/plain": [
       "Epoch 18 Batches:   0%|          | 0/15 [00:00<?, ?it/s]"
      ]
     },
     "metadata": {},
     "output_type": "display_data"
    },
    {
     "name": "stdout",
     "output_type": "stream",
     "text": [
      "Epoch 18 completed in 286.7s with average loss: 0.0962\n",
      "Running validation...\n"
     ]
    },
    {
     "data": {
      "application/vnd.jupyter.widget-view+json": {
       "model_id": "29c0d52731614a55a80bc744ebae20ed",
       "version_major": 2,
       "version_minor": 0
      },
      "text/plain": [
       "Validation:   0%|          | 0/2 [00:00<?, ?it/s]"
      ]
     },
     "metadata": {},
     "output_type": "display_data"
    },
    {
     "name": "stdout",
     "output_type": "stream",
     "text": [
      "Epoch 18: Train Loss: 0.0962 | Val AUC: 1.0000\n",
      "No improvement. Patience: 16/50\n",
      "\n",
      "=== Epoch 19 ===\n"
     ]
    },
    {
     "data": {
      "application/vnd.jupyter.widget-view+json": {
       "model_id": "0039e537c0be42868cbdce3fa856c70d",
       "version_major": 2,
       "version_minor": 0
      },
      "text/plain": [
       "Epoch 19 Batches:   0%|          | 0/15 [00:00<?, ?it/s]"
      ]
     },
     "metadata": {},
     "output_type": "display_data"
    },
    {
     "name": "stdout",
     "output_type": "stream",
     "text": [
      "Epoch 19 completed in 304.9s with average loss: 0.0199\n",
      "Running validation...\n"
     ]
    },
    {
     "data": {
      "application/vnd.jupyter.widget-view+json": {
       "model_id": "095670d736bf4c8ba89f444bff875c53",
       "version_major": 2,
       "version_minor": 0
      },
      "text/plain": [
       "Validation:   0%|          | 0/2 [00:00<?, ?it/s]"
      ]
     },
     "metadata": {},
     "output_type": "display_data"
    },
    {
     "name": "stdout",
     "output_type": "stream",
     "text": [
      "Epoch 19: Train Loss: 0.0199 | Val AUC: 1.0000\n",
      "No improvement. Patience: 17/50\n",
      "\n",
      "=== Epoch 20 ===\n"
     ]
    },
    {
     "data": {
      "application/vnd.jupyter.widget-view+json": {
       "model_id": "4bcb8a35b67a49e89e3d122be857f5ba",
       "version_major": 2,
       "version_minor": 0
      },
      "text/plain": [
       "Epoch 20 Batches:   0%|          | 0/15 [00:00<?, ?it/s]"
      ]
     },
     "metadata": {},
     "output_type": "display_data"
    },
    {
     "name": "stdout",
     "output_type": "stream",
     "text": [
      "Epoch 20 completed in 299.5s with average loss: 0.0168\n",
      "Running validation...\n"
     ]
    },
    {
     "data": {
      "application/vnd.jupyter.widget-view+json": {
       "model_id": "6306f0d7ce654f4189d213feeea2a67f",
       "version_major": 2,
       "version_minor": 0
      },
      "text/plain": [
       "Validation:   0%|          | 0/2 [00:00<?, ?it/s]"
      ]
     },
     "metadata": {},
     "output_type": "display_data"
    },
    {
     "name": "stdout",
     "output_type": "stream",
     "text": [
      "Epoch 20: Train Loss: 0.0168 | Val AUC: 1.0000\n",
      "No improvement. Patience: 18/50\n",
      "\n",
      "=== Epoch 21 ===\n"
     ]
    },
    {
     "data": {
      "application/vnd.jupyter.widget-view+json": {
       "model_id": "446725c117bd45cf975d11469b741b14",
       "version_major": 2,
       "version_minor": 0
      },
      "text/plain": [
       "Epoch 21 Batches:   0%|          | 0/15 [00:00<?, ?it/s]"
      ]
     },
     "metadata": {},
     "output_type": "display_data"
    },
    {
     "name": "stdout",
     "output_type": "stream",
     "text": [
      "Epoch 21 completed in 302.3s with average loss: 0.0380\n",
      "Running validation...\n"
     ]
    },
    {
     "data": {
      "application/vnd.jupyter.widget-view+json": {
       "model_id": "ae83d65fe3c5417590f7180771d13683",
       "version_major": 2,
       "version_minor": 0
      },
      "text/plain": [
       "Validation:   0%|          | 0/2 [00:00<?, ?it/s]"
      ]
     },
     "metadata": {},
     "output_type": "display_data"
    },
    {
     "name": "stdout",
     "output_type": "stream",
     "text": [
      "Epoch 21: Train Loss: 0.0380 | Val AUC: 1.0000\n",
      "No improvement. Patience: 19/50\n",
      "\n",
      "=== Epoch 22 ===\n"
     ]
    },
    {
     "data": {
      "application/vnd.jupyter.widget-view+json": {
       "model_id": "cbf7b86d42804e32ad8c51caefd77ee9",
       "version_major": 2,
       "version_minor": 0
      },
      "text/plain": [
       "Epoch 22 Batches:   0%|          | 0/15 [00:00<?, ?it/s]"
      ]
     },
     "metadata": {},
     "output_type": "display_data"
    },
    {
     "name": "stdout",
     "output_type": "stream",
     "text": [
      "Epoch 22 completed in 311.6s with average loss: 0.0471\n",
      "Running validation...\n"
     ]
    },
    {
     "data": {
      "application/vnd.jupyter.widget-view+json": {
       "model_id": "28fd06857c474d65993da214015b4dbb",
       "version_major": 2,
       "version_minor": 0
      },
      "text/plain": [
       "Validation:   0%|          | 0/2 [00:00<?, ?it/s]"
      ]
     },
     "metadata": {},
     "output_type": "display_data"
    },
    {
     "name": "stdout",
     "output_type": "stream",
     "text": [
      "Epoch 22: Train Loss: 0.0471 | Val AUC: 1.0000\n",
      "No improvement. Patience: 20/50\n",
      "\n",
      "=== Epoch 23 ===\n"
     ]
    },
    {
     "data": {
      "application/vnd.jupyter.widget-view+json": {
       "model_id": "304dcc74c2054c62855796115cc77791",
       "version_major": 2,
       "version_minor": 0
      },
      "text/plain": [
       "Epoch 23 Batches:   0%|          | 0/15 [00:00<?, ?it/s]"
      ]
     },
     "metadata": {},
     "output_type": "display_data"
    },
    {
     "name": "stdout",
     "output_type": "stream",
     "text": [
      "Epoch 23 completed in 287.9s with average loss: 0.0146\n",
      "Running validation...\n"
     ]
    },
    {
     "data": {
      "application/vnd.jupyter.widget-view+json": {
       "model_id": "092682c210154d3299410711a9a68ceb",
       "version_major": 2,
       "version_minor": 0
      },
      "text/plain": [
       "Validation:   0%|          | 0/2 [00:00<?, ?it/s]"
      ]
     },
     "metadata": {},
     "output_type": "display_data"
    },
    {
     "name": "stdout",
     "output_type": "stream",
     "text": [
      "Epoch 23: Train Loss: 0.0146 | Val AUC: 1.0000\n",
      "No improvement. Patience: 21/50\n",
      "\n",
      "=== Epoch 24 ===\n"
     ]
    },
    {
     "data": {
      "application/vnd.jupyter.widget-view+json": {
       "model_id": "2daf9fcc992d4c338350a47ce009220d",
       "version_major": 2,
       "version_minor": 0
      },
      "text/plain": [
       "Epoch 24 Batches:   0%|          | 0/15 [00:00<?, ?it/s]"
      ]
     },
     "metadata": {},
     "output_type": "display_data"
    },
    {
     "name": "stdout",
     "output_type": "stream",
     "text": [
      "Epoch 24 completed in 311.2s with average loss: 0.0157\n",
      "Running validation...\n"
     ]
    },
    {
     "data": {
      "application/vnd.jupyter.widget-view+json": {
       "model_id": "fdcf82471aae4f31926c2f4e7ce1d549",
       "version_major": 2,
       "version_minor": 0
      },
      "text/plain": [
       "Validation:   0%|          | 0/2 [00:00<?, ?it/s]"
      ]
     },
     "metadata": {},
     "output_type": "display_data"
    },
    {
     "name": "stdout",
     "output_type": "stream",
     "text": [
      "Epoch 24: Train Loss: 0.0157 | Val AUC: 1.0000\n",
      "No improvement. Patience: 22/50\n",
      "\n",
      "=== Epoch 25 ===\n"
     ]
    },
    {
     "data": {
      "application/vnd.jupyter.widget-view+json": {
       "model_id": "18a4a6892180447fa0c26645d578bd1e",
       "version_major": 2,
       "version_minor": 0
      },
      "text/plain": [
       "Epoch 25 Batches:   0%|          | 0/15 [00:00<?, ?it/s]"
      ]
     },
     "metadata": {},
     "output_type": "display_data"
    },
    {
     "name": "stdout",
     "output_type": "stream",
     "text": [
      "Epoch 25 completed in 286.7s with average loss: 0.0026\n",
      "Running validation...\n"
     ]
    },
    {
     "data": {
      "application/vnd.jupyter.widget-view+json": {
       "model_id": "bc98d0532161415c8712b4ca15406830",
       "version_major": 2,
       "version_minor": 0
      },
      "text/plain": [
       "Validation:   0%|          | 0/2 [00:00<?, ?it/s]"
      ]
     },
     "metadata": {},
     "output_type": "display_data"
    },
    {
     "name": "stdout",
     "output_type": "stream",
     "text": [
      "Epoch 25: Train Loss: 0.0026 | Val AUC: 1.0000\n",
      "No improvement. Patience: 23/50\n",
      "\n",
      "=== Epoch 26 ===\n"
     ]
    },
    {
     "data": {
      "application/vnd.jupyter.widget-view+json": {
       "model_id": "bb5b622f608a4edca74421cdfd9b7b3b",
       "version_major": 2,
       "version_minor": 0
      },
      "text/plain": [
       "Epoch 26 Batches:   0%|          | 0/15 [00:00<?, ?it/s]"
      ]
     },
     "metadata": {},
     "output_type": "display_data"
    },
    {
     "name": "stdout",
     "output_type": "stream",
     "text": [
      "Epoch 26 completed in 272.5s with average loss: 0.0101\n",
      "Running validation...\n"
     ]
    },
    {
     "data": {
      "application/vnd.jupyter.widget-view+json": {
       "model_id": "efe95939a4af40a397fe5a109bcf65fc",
       "version_major": 2,
       "version_minor": 0
      },
      "text/plain": [
       "Validation:   0%|          | 0/2 [00:00<?, ?it/s]"
      ]
     },
     "metadata": {},
     "output_type": "display_data"
    },
    {
     "name": "stdout",
     "output_type": "stream",
     "text": [
      "Epoch 26: Train Loss: 0.0101 | Val AUC: 1.0000\n",
      "No improvement. Patience: 24/50\n",
      "\n",
      "=== Epoch 27 ===\n"
     ]
    },
    {
     "data": {
      "application/vnd.jupyter.widget-view+json": {
       "model_id": "f4292dcb6f6c4600b59876ccafcb7038",
       "version_major": 2,
       "version_minor": 0
      },
      "text/plain": [
       "Epoch 27 Batches:   0%|          | 0/15 [00:00<?, ?it/s]"
      ]
     },
     "metadata": {},
     "output_type": "display_data"
    },
    {
     "name": "stdout",
     "output_type": "stream",
     "text": [
      "Epoch 27 completed in 304.1s with average loss: 0.0195\n",
      "Running validation...\n"
     ]
    },
    {
     "data": {
      "application/vnd.jupyter.widget-view+json": {
       "model_id": "9040b5b95aae46af992a70565810316c",
       "version_major": 2,
       "version_minor": 0
      },
      "text/plain": [
       "Validation:   0%|          | 0/2 [00:00<?, ?it/s]"
      ]
     },
     "metadata": {},
     "output_type": "display_data"
    },
    {
     "name": "stdout",
     "output_type": "stream",
     "text": [
      "Epoch 27: Train Loss: 0.0195 | Val AUC: 1.0000\n",
      "No improvement. Patience: 25/50\n",
      "\n",
      "=== Epoch 28 ===\n"
     ]
    },
    {
     "data": {
      "application/vnd.jupyter.widget-view+json": {
       "model_id": "9e4e708a405d4e72b6ef6d748ed3048a",
       "version_major": 2,
       "version_minor": 0
      },
      "text/plain": [
       "Epoch 28 Batches:   0%|          | 0/15 [00:00<?, ?it/s]"
      ]
     },
     "metadata": {},
     "output_type": "display_data"
    },
    {
     "name": "stdout",
     "output_type": "stream",
     "text": [
      "Epoch 28 completed in 283.2s with average loss: 0.0045\n",
      "Running validation...\n"
     ]
    },
    {
     "data": {
      "application/vnd.jupyter.widget-view+json": {
       "model_id": "f5f35273ca5a45afbfc7943832254563",
       "version_major": 2,
       "version_minor": 0
      },
      "text/plain": [
       "Validation:   0%|          | 0/2 [00:00<?, ?it/s]"
      ]
     },
     "metadata": {},
     "output_type": "display_data"
    },
    {
     "name": "stdout",
     "output_type": "stream",
     "text": [
      "Epoch 28: Train Loss: 0.0045 | Val AUC: 1.0000\n",
      "No improvement. Patience: 26/50\n",
      "\n",
      "=== Epoch 29 ===\n"
     ]
    },
    {
     "data": {
      "application/vnd.jupyter.widget-view+json": {
       "model_id": "788863455ae84a27a737c05a34f2447b",
       "version_major": 2,
       "version_minor": 0
      },
      "text/plain": [
       "Epoch 29 Batches:   0%|          | 0/15 [00:00<?, ?it/s]"
      ]
     },
     "metadata": {},
     "output_type": "display_data"
    },
    {
     "name": "stdout",
     "output_type": "stream",
     "text": [
      "Epoch 29 completed in 257.5s with average loss: 0.0467\n",
      "Running validation...\n"
     ]
    },
    {
     "data": {
      "application/vnd.jupyter.widget-view+json": {
       "model_id": "1b996473565741cabf41346a5fde07fa",
       "version_major": 2,
       "version_minor": 0
      },
      "text/plain": [
       "Validation:   0%|          | 0/2 [00:00<?, ?it/s]"
      ]
     },
     "metadata": {},
     "output_type": "display_data"
    },
    {
     "name": "stdout",
     "output_type": "stream",
     "text": [
      "Epoch 29: Train Loss: 0.0467 | Val AUC: 1.0000\n",
      "No improvement. Patience: 27/50\n",
      "\n",
      "=== Epoch 30 ===\n"
     ]
    },
    {
     "data": {
      "application/vnd.jupyter.widget-view+json": {
       "model_id": "96100ee7e4bd4267b9df9e033f61ee6f",
       "version_major": 2,
       "version_minor": 0
      },
      "text/plain": [
       "Epoch 30 Batches:   0%|          | 0/15 [00:00<?, ?it/s]"
      ]
     },
     "metadata": {},
     "output_type": "display_data"
    },
    {
     "name": "stdout",
     "output_type": "stream",
     "text": [
      "Epoch 30 completed in 256.3s with average loss: 0.0088\n",
      "Running validation...\n"
     ]
    },
    {
     "data": {
      "application/vnd.jupyter.widget-view+json": {
       "model_id": "b3145e752e644af1adad66e624314e88",
       "version_major": 2,
       "version_minor": 0
      },
      "text/plain": [
       "Validation:   0%|          | 0/2 [00:00<?, ?it/s]"
      ]
     },
     "metadata": {},
     "output_type": "display_data"
    },
    {
     "name": "stdout",
     "output_type": "stream",
     "text": [
      "Epoch 30: Train Loss: 0.0088 | Val AUC: 1.0000\n",
      "No improvement. Patience: 28/50\n",
      "\n",
      "=== Epoch 31 ===\n"
     ]
    },
    {
     "data": {
      "application/vnd.jupyter.widget-view+json": {
       "model_id": "f10a77acc29e49c1bbad06202f34442a",
       "version_major": 2,
       "version_minor": 0
      },
      "text/plain": [
       "Epoch 31 Batches:   0%|          | 0/15 [00:00<?, ?it/s]"
      ]
     },
     "metadata": {},
     "output_type": "display_data"
    },
    {
     "name": "stdout",
     "output_type": "stream",
     "text": [
      "Epoch 31 completed in 253.5s with average loss: 0.0005\n",
      "Running validation...\n"
     ]
    },
    {
     "data": {
      "application/vnd.jupyter.widget-view+json": {
       "model_id": "cc943f32d07e46908a8b7e892212b739",
       "version_major": 2,
       "version_minor": 0
      },
      "text/plain": [
       "Validation:   0%|          | 0/2 [00:00<?, ?it/s]"
      ]
     },
     "metadata": {},
     "output_type": "display_data"
    },
    {
     "name": "stdout",
     "output_type": "stream",
     "text": [
      "Epoch 31: Train Loss: 0.0005 | Val AUC: 1.0000\n",
      "No improvement. Patience: 29/50\n",
      "\n",
      "=== Epoch 32 ===\n"
     ]
    },
    {
     "data": {
      "application/vnd.jupyter.widget-view+json": {
       "model_id": "f8665de9edde4d54bc6f6510df241557",
       "version_major": 2,
       "version_minor": 0
      },
      "text/plain": [
       "Epoch 32 Batches:   0%|          | 0/15 [00:00<?, ?it/s]"
      ]
     },
     "metadata": {},
     "output_type": "display_data"
    },
    {
     "name": "stdout",
     "output_type": "stream",
     "text": [
      "Epoch 32 completed in 266.8s with average loss: 0.0003\n",
      "Running validation...\n"
     ]
    },
    {
     "data": {
      "application/vnd.jupyter.widget-view+json": {
       "model_id": "27c06dc4db3c4dcfb387d2284fd48629",
       "version_major": 2,
       "version_minor": 0
      },
      "text/plain": [
       "Validation:   0%|          | 0/2 [00:00<?, ?it/s]"
      ]
     },
     "metadata": {},
     "output_type": "display_data"
    },
    {
     "name": "stdout",
     "output_type": "stream",
     "text": [
      "Epoch 32: Train Loss: 0.0003 | Val AUC: 1.0000\n",
      "No improvement. Patience: 30/50\n",
      "\n",
      "=== Epoch 33 ===\n"
     ]
    },
    {
     "data": {
      "application/vnd.jupyter.widget-view+json": {
       "model_id": "6761967e5eb2488091a9ee1ad18389b6",
       "version_major": 2,
       "version_minor": 0
      },
      "text/plain": [
       "Epoch 33 Batches:   0%|          | 0/15 [00:00<?, ?it/s]"
      ]
     },
     "metadata": {},
     "output_type": "display_data"
    },
    {
     "name": "stdout",
     "output_type": "stream",
     "text": [
      "Epoch 33 completed in 244.2s with average loss: 0.0002\n",
      "Running validation...\n"
     ]
    },
    {
     "data": {
      "application/vnd.jupyter.widget-view+json": {
       "model_id": "b28b4b4519d34662a551d5adf21599aa",
       "version_major": 2,
       "version_minor": 0
      },
      "text/plain": [
       "Validation:   0%|          | 0/2 [00:00<?, ?it/s]"
      ]
     },
     "metadata": {},
     "output_type": "display_data"
    },
    {
     "name": "stdout",
     "output_type": "stream",
     "text": [
      "Epoch 33: Train Loss: 0.0002 | Val AUC: 1.0000\n",
      "No improvement. Patience: 31/50\n",
      "\n",
      "=== Epoch 34 ===\n"
     ]
    },
    {
     "data": {
      "application/vnd.jupyter.widget-view+json": {
       "model_id": "3b45a10aa4b240b1b45ee66afad53314",
       "version_major": 2,
       "version_minor": 0
      },
      "text/plain": [
       "Epoch 34 Batches:   0%|          | 0/15 [00:00<?, ?it/s]"
      ]
     },
     "metadata": {},
     "output_type": "display_data"
    },
    {
     "name": "stdout",
     "output_type": "stream",
     "text": [
      "Epoch 34 completed in 340.6s with average loss: 0.0011\n",
      "Running validation...\n"
     ]
    },
    {
     "data": {
      "application/vnd.jupyter.widget-view+json": {
       "model_id": "12b20d8844ff4cce8999c22086de19e8",
       "version_major": 2,
       "version_minor": 0
      },
      "text/plain": [
       "Validation:   0%|          | 0/2 [00:00<?, ?it/s]"
      ]
     },
     "metadata": {},
     "output_type": "display_data"
    },
    {
     "name": "stdout",
     "output_type": "stream",
     "text": [
      "Epoch 34: Train Loss: 0.0011 | Val AUC: 1.0000\n",
      "No improvement. Patience: 32/50\n",
      "\n",
      "=== Epoch 35 ===\n"
     ]
    },
    {
     "data": {
      "application/vnd.jupyter.widget-view+json": {
       "model_id": "992dbbb2338c43078d4ebed1c50ba6d5",
       "version_major": 2,
       "version_minor": 0
      },
      "text/plain": [
       "Epoch 35 Batches:   0%|          | 0/15 [00:00<?, ?it/s]"
      ]
     },
     "metadata": {},
     "output_type": "display_data"
    },
    {
     "name": "stdout",
     "output_type": "stream",
     "text": [
      "Epoch 35 completed in 248.1s with average loss: 0.0004\n",
      "Running validation...\n"
     ]
    },
    {
     "data": {
      "application/vnd.jupyter.widget-view+json": {
       "model_id": "c9e02a83a8be4a0ebe24c324a9aa4182",
       "version_major": 2,
       "version_minor": 0
      },
      "text/plain": [
       "Validation:   0%|          | 0/2 [00:00<?, ?it/s]"
      ]
     },
     "metadata": {},
     "output_type": "display_data"
    },
    {
     "name": "stdout",
     "output_type": "stream",
     "text": [
      "Epoch 35: Train Loss: 0.0004 | Val AUC: 1.0000\n",
      "No improvement. Patience: 33/50\n",
      "\n",
      "=== Epoch 36 ===\n"
     ]
    },
    {
     "data": {
      "application/vnd.jupyter.widget-view+json": {
       "model_id": "06b9e2ee2041496ea45a6337360dfcce",
       "version_major": 2,
       "version_minor": 0
      },
      "text/plain": [
       "Epoch 36 Batches:   0%|          | 0/15 [00:00<?, ?it/s]"
      ]
     },
     "metadata": {},
     "output_type": "display_data"
    },
    {
     "name": "stdout",
     "output_type": "stream",
     "text": [
      "Epoch 36 completed in 234.6s with average loss: 0.0002\n",
      "Running validation...\n"
     ]
    },
    {
     "data": {
      "application/vnd.jupyter.widget-view+json": {
       "model_id": "d6bcdba7498b474895b6b3f990b5db3d",
       "version_major": 2,
       "version_minor": 0
      },
      "text/plain": [
       "Validation:   0%|          | 0/2 [00:00<?, ?it/s]"
      ]
     },
     "metadata": {},
     "output_type": "display_data"
    },
    {
     "name": "stdout",
     "output_type": "stream",
     "text": [
      "Epoch 36: Train Loss: 0.0002 | Val AUC: 1.0000\n",
      "No improvement. Patience: 34/50\n",
      "\n",
      "=== Epoch 37 ===\n"
     ]
    },
    {
     "data": {
      "application/vnd.jupyter.widget-view+json": {
       "model_id": "e63b3ffa40604ffc89741ca7628efb29",
       "version_major": 2,
       "version_minor": 0
      },
      "text/plain": [
       "Epoch 37 Batches:   0%|          | 0/15 [00:00<?, ?it/s]"
      ]
     },
     "metadata": {},
     "output_type": "display_data"
    },
    {
     "name": "stdout",
     "output_type": "stream",
     "text": [
      "Epoch 37 completed in 271.5s with average loss: 0.0001\n",
      "Running validation...\n"
     ]
    },
    {
     "data": {
      "application/vnd.jupyter.widget-view+json": {
       "model_id": "595a9456df544f1cb9aebe0cce9e47bb",
       "version_major": 2,
       "version_minor": 0
      },
      "text/plain": [
       "Validation:   0%|          | 0/2 [00:00<?, ?it/s]"
      ]
     },
     "metadata": {},
     "output_type": "display_data"
    },
    {
     "name": "stdout",
     "output_type": "stream",
     "text": [
      "Epoch 37: Train Loss: 0.0001 | Val AUC: 1.0000\n",
      "No improvement. Patience: 35/50\n",
      "\n",
      "=== Epoch 38 ===\n"
     ]
    },
    {
     "data": {
      "application/vnd.jupyter.widget-view+json": {
       "model_id": "05a44ed7b601433e9b2c5e01601930a9",
       "version_major": 2,
       "version_minor": 0
      },
      "text/plain": [
       "Epoch 38 Batches:   0%|          | 0/15 [00:00<?, ?it/s]"
      ]
     },
     "metadata": {},
     "output_type": "display_data"
    },
    {
     "name": "stdout",
     "output_type": "stream",
     "text": [
      "Epoch 38 completed in 285.0s with average loss: 0.0001\n",
      "Running validation...\n"
     ]
    },
    {
     "data": {
      "application/vnd.jupyter.widget-view+json": {
       "model_id": "a89ee495e29240aea7abbe11ab698c83",
       "version_major": 2,
       "version_minor": 0
      },
      "text/plain": [
       "Validation:   0%|          | 0/2 [00:00<?, ?it/s]"
      ]
     },
     "metadata": {},
     "output_type": "display_data"
    },
    {
     "name": "stdout",
     "output_type": "stream",
     "text": [
      "Epoch 38: Train Loss: 0.0001 | Val AUC: 1.0000\n",
      "No improvement. Patience: 36/50\n",
      "\n",
      "=== Epoch 39 ===\n"
     ]
    },
    {
     "data": {
      "application/vnd.jupyter.widget-view+json": {
       "model_id": "1a1de9deeee14fd59cd59f113f80492e",
       "version_major": 2,
       "version_minor": 0
      },
      "text/plain": [
       "Epoch 39 Batches:   0%|          | 0/15 [00:00<?, ?it/s]"
      ]
     },
     "metadata": {},
     "output_type": "display_data"
    },
    {
     "name": "stdout",
     "output_type": "stream",
     "text": [
      "Epoch 39 completed in 273.3s with average loss: 0.0002\n",
      "Running validation...\n"
     ]
    },
    {
     "data": {
      "application/vnd.jupyter.widget-view+json": {
       "model_id": "206a21577ec54c45a4a707b349ec6d06",
       "version_major": 2,
       "version_minor": 0
      },
      "text/plain": [
       "Validation:   0%|          | 0/2 [00:00<?, ?it/s]"
      ]
     },
     "metadata": {},
     "output_type": "display_data"
    },
    {
     "name": "stdout",
     "output_type": "stream",
     "text": [
      "Epoch 39: Train Loss: 0.0002 | Val AUC: 1.0000\n",
      "No improvement. Patience: 37/50\n",
      "\n",
      "=== Epoch 40 ===\n"
     ]
    },
    {
     "data": {
      "application/vnd.jupyter.widget-view+json": {
       "model_id": "1a8221174e35424dba29f353e53fc6a4",
       "version_major": 2,
       "version_minor": 0
      },
      "text/plain": [
       "Epoch 40 Batches:   0%|          | 0/15 [00:00<?, ?it/s]"
      ]
     },
     "metadata": {},
     "output_type": "display_data"
    },
    {
     "name": "stdout",
     "output_type": "stream",
     "text": [
      "Epoch 40 completed in 250.4s with average loss: 0.0001\n",
      "Running validation...\n"
     ]
    },
    {
     "data": {
      "application/vnd.jupyter.widget-view+json": {
       "model_id": "5c584958a73444f6b3ba7fd3467a1535",
       "version_major": 2,
       "version_minor": 0
      },
      "text/plain": [
       "Validation:   0%|          | 0/2 [00:00<?, ?it/s]"
      ]
     },
     "metadata": {},
     "output_type": "display_data"
    },
    {
     "name": "stdout",
     "output_type": "stream",
     "text": [
      "Epoch 40: Train Loss: 0.0001 | Val AUC: 1.0000\n",
      "No improvement. Patience: 38/50\n",
      "\n",
      "=== Epoch 41 ===\n"
     ]
    },
    {
     "data": {
      "application/vnd.jupyter.widget-view+json": {
       "model_id": "1e453e5980fa4e00aefc576d811d6ee2",
       "version_major": 2,
       "version_minor": 0
      },
      "text/plain": [
       "Epoch 41 Batches:   0%|          | 0/15 [00:00<?, ?it/s]"
      ]
     },
     "metadata": {},
     "output_type": "display_data"
    },
    {
     "name": "stdout",
     "output_type": "stream",
     "text": [
      "Epoch 41 completed in 237.9s with average loss: 0.0015\n",
      "Running validation...\n"
     ]
    },
    {
     "data": {
      "application/vnd.jupyter.widget-view+json": {
       "model_id": "aa8a0405ce99439ab9d2d11fc2c3d310",
       "version_major": 2,
       "version_minor": 0
      },
      "text/plain": [
       "Validation:   0%|          | 0/2 [00:00<?, ?it/s]"
      ]
     },
     "metadata": {},
     "output_type": "display_data"
    },
    {
     "name": "stdout",
     "output_type": "stream",
     "text": [
      "Epoch 41: Train Loss: 0.0015 | Val AUC: 1.0000\n",
      "No improvement. Patience: 39/50\n",
      "\n",
      "=== Epoch 42 ===\n"
     ]
    },
    {
     "data": {
      "application/vnd.jupyter.widget-view+json": {
       "model_id": "026c5eb4503f40ea972f03ecb5788380",
       "version_major": 2,
       "version_minor": 0
      },
      "text/plain": [
       "Epoch 42 Batches:   0%|          | 0/15 [00:00<?, ?it/s]"
      ]
     },
     "metadata": {},
     "output_type": "display_data"
    },
    {
     "name": "stdout",
     "output_type": "stream",
     "text": [
      "Epoch 42 completed in 299.7s with average loss: 0.0001\n",
      "Running validation...\n"
     ]
    },
    {
     "data": {
      "application/vnd.jupyter.widget-view+json": {
       "model_id": "493487c83d2c447f9a7b5f2af25c80b2",
       "version_major": 2,
       "version_minor": 0
      },
      "text/plain": [
       "Validation:   0%|          | 0/2 [00:00<?, ?it/s]"
      ]
     },
     "metadata": {},
     "output_type": "display_data"
    },
    {
     "name": "stdout",
     "output_type": "stream",
     "text": [
      "Epoch 42: Train Loss: 0.0001 | Val AUC: 1.0000\n",
      "No improvement. Patience: 40/50\n",
      "\n",
      "=== Epoch 43 ===\n"
     ]
    },
    {
     "data": {
      "application/vnd.jupyter.widget-view+json": {
       "model_id": "32f50ea271864d8d8519c490bf870b77",
       "version_major": 2,
       "version_minor": 0
      },
      "text/plain": [
       "Epoch 43 Batches:   0%|          | 0/15 [00:00<?, ?it/s]"
      ]
     },
     "metadata": {},
     "output_type": "display_data"
    },
    {
     "name": "stdout",
     "output_type": "stream",
     "text": [
      "Epoch 43 completed in 352.8s with average loss: 0.0001\n",
      "Running validation...\n"
     ]
    },
    {
     "data": {
      "application/vnd.jupyter.widget-view+json": {
       "model_id": "c45217bd671a44278037ebf29e87aa76",
       "version_major": 2,
       "version_minor": 0
      },
      "text/plain": [
       "Validation:   0%|          | 0/2 [00:00<?, ?it/s]"
      ]
     },
     "metadata": {},
     "output_type": "display_data"
    },
    {
     "name": "stdout",
     "output_type": "stream",
     "text": [
      "Epoch 43: Train Loss: 0.0001 | Val AUC: 1.0000\n",
      "No improvement. Patience: 41/50\n",
      "\n",
      "=== Epoch 44 ===\n"
     ]
    },
    {
     "data": {
      "application/vnd.jupyter.widget-view+json": {
       "model_id": "b1833b9d5a8e4adfafaf07d34e276657",
       "version_major": 2,
       "version_minor": 0
      },
      "text/plain": [
       "Epoch 44 Batches:   0%|          | 0/15 [00:00<?, ?it/s]"
      ]
     },
     "metadata": {},
     "output_type": "display_data"
    },
    {
     "name": "stdout",
     "output_type": "stream",
     "text": [
      "Epoch 44 completed in 316.3s with average loss: 0.0001\n",
      "Running validation...\n"
     ]
    },
    {
     "data": {
      "application/vnd.jupyter.widget-view+json": {
       "model_id": "384463f9436a4818b222b86f859fb44a",
       "version_major": 2,
       "version_minor": 0
      },
      "text/plain": [
       "Validation:   0%|          | 0/2 [00:00<?, ?it/s]"
      ]
     },
     "metadata": {},
     "output_type": "display_data"
    },
    {
     "name": "stdout",
     "output_type": "stream",
     "text": [
      "Epoch 44: Train Loss: 0.0001 | Val AUC: 1.0000\n",
      "No improvement. Patience: 42/50\n",
      "\n",
      "=== Epoch 45 ===\n"
     ]
    },
    {
     "data": {
      "application/vnd.jupyter.widget-view+json": {
       "model_id": "8e7bb69573f441f2911b0970edb4c2b5",
       "version_major": 2,
       "version_minor": 0
      },
      "text/plain": [
       "Epoch 45 Batches:   0%|          | 0/15 [00:00<?, ?it/s]"
      ]
     },
     "metadata": {},
     "output_type": "display_data"
    },
    {
     "name": "stdout",
     "output_type": "stream",
     "text": [
      "Epoch 45 completed in 290.5s with average loss: 0.0007\n",
      "Running validation...\n"
     ]
    },
    {
     "data": {
      "application/vnd.jupyter.widget-view+json": {
       "model_id": "7ceb6e9c9cbe418fa2d2aba079de5f0c",
       "version_major": 2,
       "version_minor": 0
      },
      "text/plain": [
       "Validation:   0%|          | 0/2 [00:00<?, ?it/s]"
      ]
     },
     "metadata": {},
     "output_type": "display_data"
    },
    {
     "name": "stdout",
     "output_type": "stream",
     "text": [
      "Epoch 45: Train Loss: 0.0007 | Val AUC: 1.0000\n",
      "No improvement. Patience: 43/50\n",
      "\n",
      "=== Epoch 46 ===\n"
     ]
    },
    {
     "data": {
      "application/vnd.jupyter.widget-view+json": {
       "model_id": "52265c4933ea47118881e34bc1a29f9e",
       "version_major": 2,
       "version_minor": 0
      },
      "text/plain": [
       "Epoch 46 Batches:   0%|          | 0/15 [00:00<?, ?it/s]"
      ]
     },
     "metadata": {},
     "output_type": "display_data"
    },
    {
     "name": "stdout",
     "output_type": "stream",
     "text": [
      "Epoch 46 completed in 270.7s with average loss: 0.0086\n",
      "Running validation...\n"
     ]
    },
    {
     "data": {
      "application/vnd.jupyter.widget-view+json": {
       "model_id": "9da3368dbb5e4e8ca17362781a6bd31b",
       "version_major": 2,
       "version_minor": 0
      },
      "text/plain": [
       "Validation:   0%|          | 0/2 [00:00<?, ?it/s]"
      ]
     },
     "metadata": {},
     "output_type": "display_data"
    },
    {
     "name": "stdout",
     "output_type": "stream",
     "text": [
      "Epoch 46: Train Loss: 0.0086 | Val AUC: 1.0000\n",
      "No improvement. Patience: 44/50\n",
      "\n",
      "=== Epoch 47 ===\n"
     ]
    },
    {
     "data": {
      "application/vnd.jupyter.widget-view+json": {
       "model_id": "8534d00727104733a57524903eb64653",
       "version_major": 2,
       "version_minor": 0
      },
      "text/plain": [
       "Epoch 47 Batches:   0%|          | 0/15 [00:00<?, ?it/s]"
      ]
     },
     "metadata": {},
     "output_type": "display_data"
    },
    {
     "name": "stdout",
     "output_type": "stream",
     "text": [
      "Epoch 47 completed in 296.5s with average loss: 0.0001\n",
      "Running validation...\n"
     ]
    },
    {
     "data": {
      "application/vnd.jupyter.widget-view+json": {
       "model_id": "e996e073e3d64e24baf70cec3acd9201",
       "version_major": 2,
       "version_minor": 0
      },
      "text/plain": [
       "Validation:   0%|          | 0/2 [00:00<?, ?it/s]"
      ]
     },
     "metadata": {},
     "output_type": "display_data"
    },
    {
     "name": "stdout",
     "output_type": "stream",
     "text": [
      "Epoch 47: Train Loss: 0.0001 | Val AUC: 1.0000\n",
      "No improvement. Patience: 45/50\n",
      "\n",
      "=== Epoch 48 ===\n"
     ]
    },
    {
     "data": {
      "application/vnd.jupyter.widget-view+json": {
       "model_id": "e6dde781a37c4228a27440ce01c24648",
       "version_major": 2,
       "version_minor": 0
      },
      "text/plain": [
       "Epoch 48 Batches:   0%|          | 0/15 [00:00<?, ?it/s]"
      ]
     },
     "metadata": {},
     "output_type": "display_data"
    },
    {
     "name": "stdout",
     "output_type": "stream",
     "text": [
      "Epoch 48 completed in 284.6s with average loss: 0.0001\n",
      "Running validation...\n"
     ]
    },
    {
     "data": {
      "application/vnd.jupyter.widget-view+json": {
       "model_id": "b640e77b5f664b299231f7058698e41d",
       "version_major": 2,
       "version_minor": 0
      },
      "text/plain": [
       "Validation:   0%|          | 0/2 [00:00<?, ?it/s]"
      ]
     },
     "metadata": {},
     "output_type": "display_data"
    },
    {
     "name": "stdout",
     "output_type": "stream",
     "text": [
      "Epoch 48: Train Loss: 0.0001 | Val AUC: 1.0000\n",
      "No improvement. Patience: 46/50\n",
      "\n",
      "=== Epoch 49 ===\n"
     ]
    },
    {
     "data": {
      "application/vnd.jupyter.widget-view+json": {
       "model_id": "e379f135b1004b3da60b5f2c66a76282",
       "version_major": 2,
       "version_minor": 0
      },
      "text/plain": [
       "Epoch 49 Batches:   0%|          | 0/15 [00:00<?, ?it/s]"
      ]
     },
     "metadata": {},
     "output_type": "display_data"
    },
    {
     "name": "stdout",
     "output_type": "stream",
     "text": [
      "Epoch 49 completed in 276.3s with average loss: 0.0001\n",
      "Running validation...\n"
     ]
    },
    {
     "data": {
      "application/vnd.jupyter.widget-view+json": {
       "model_id": "15a564a3f1bb4630a91fa3a38b4cf2ce",
       "version_major": 2,
       "version_minor": 0
      },
      "text/plain": [
       "Validation:   0%|          | 0/2 [00:00<?, ?it/s]"
      ]
     },
     "metadata": {},
     "output_type": "display_data"
    },
    {
     "name": "stdout",
     "output_type": "stream",
     "text": [
      "Epoch 49: Train Loss: 0.0001 | Val AUC: 1.0000\n",
      "No improvement. Patience: 47/50\n",
      "\n",
      "=== Epoch 50 ===\n"
     ]
    },
    {
     "data": {
      "application/vnd.jupyter.widget-view+json": {
       "model_id": "118a877025e244ec837452c41028ef40",
       "version_major": 2,
       "version_minor": 0
      },
      "text/plain": [
       "Epoch 50 Batches:   0%|          | 0/15 [00:00<?, ?it/s]"
      ]
     },
     "metadata": {},
     "output_type": "display_data"
    },
    {
     "name": "stdout",
     "output_type": "stream",
     "text": [
      "Epoch 50 completed in 261.4s with average loss: 0.0001\n",
      "Running validation...\n"
     ]
    },
    {
     "data": {
      "application/vnd.jupyter.widget-view+json": {
       "model_id": "cc166d3e9c1b4d0e91c40222f2477879",
       "version_major": 2,
       "version_minor": 0
      },
      "text/plain": [
       "Validation:   0%|          | 0/2 [00:00<?, ?it/s]"
      ]
     },
     "metadata": {},
     "output_type": "display_data"
    },
    {
     "name": "stdout",
     "output_type": "stream",
     "text": [
      "Epoch 50: Train Loss: 0.0001 | Val AUC: 1.0000\n",
      "No improvement. Patience: 48/50\n",
      "Computing confusion matrix for the best validation predictions...\n",
      "Confusion Matrix:\n",
      "[[28  0]\n",
      " [ 1 32]]\n",
      "Saving final checkpoint...\n",
      "Checkpoint saved to final_checkpoint.pth\n",
      "Optimizing model for inference...\n",
      "Scripted model saved to scripted_model.pt\n"
     ]
    }
   ],
   "source": [
    "import timm\n",
    "import torch\n",
    "import torch.nn as nn\n",
    "import torch.optim as optim\n",
    "import torch.nn.functional as F\n",
    "from torch.utils.data import Dataset, DataLoader\n",
    "from torchvision import transforms\n",
    "from sklearn.metrics import roc_auc_score, confusion_matrix\n",
    "import numpy as np\n",
    "import time\n",
    "from tqdm.notebook import tqdm  # using the notebook version for progress bars\n",
    "\n",
    "# --- Custom dataset for CT slices ---\n",
    "class CTDataset(Dataset):\n",
    "    def __init__(self, slice_indices, labels, ct_volume, mean, std, transform=None):\n",
    "        self.slice_indices = slice_indices\n",
    "        self.labels = labels\n",
    "        self.ct_volume = ct_volume\n",
    "        self.mean = mean\n",
    "        self.std = std\n",
    "        self.transform = transform\n",
    "        print(f\"Initialized CTDataset with {len(self.slice_indices)} samples.\")\n",
    "\n",
    "    def __len__(self):\n",
    "        return len(self.slice_indices)\n",
    "\n",
    "    def __getitem__(self, idx):\n",
    "        slice_idx = self.slice_indices[idx]\n",
    "        ct_slice = self.ct_volume[:, :, slice_idx].astype(np.float32)\n",
    "        # Normalize the slice to [0, 1]\n",
    "        ct_slice = (ct_slice - np.min(ct_slice)) / (np.max(ct_slice) - np.min(ct_slice) + 1e-6)\n",
    "        ct_slice = torch.tensor(ct_slice).unsqueeze(0)  # shape: [1, H, W]\n",
    "        # Resize to (299, 299) using bilinear interpolation\n",
    "        ct_slice = F.interpolate(ct_slice.unsqueeze(0), size=(299, 299),\n",
    "                                 mode='bilinear', align_corners=False).squeeze(0)\n",
    "        if self.transform:\n",
    "            ct_slice = self.transform(ct_slice)\n",
    "        # Standardize the image using dataset mean and std\n",
    "        ct_slice = (ct_slice - self.mean) / self.std\n",
    "        label = torch.tensor(self.labels[idx]).float()\n",
    "        return ct_slice, label\n",
    "\n",
    "# --- Compute dataset statistics ---\n",
    "# (Make sure X_train, y_train, and ct_volume are defined in your notebook)\n",
    "print(\"Computing dataset statistics...\")\n",
    "temp_dataset = CTDataset(X_train, y_train, ct_volume, mean=0, std=1, transform=None)\n",
    "temp_loader = DataLoader(temp_dataset, batch_size=16, shuffle=False, num_workers=0)\n",
    "all_slices = torch.cat([slices for slices, _ in temp_loader])\n",
    "dataset_mean, dataset_std = all_slices.mean().item(), all_slices.std().item()\n",
    "print(f\"Dataset mean: {dataset_mean:.4f}, Dataset std: {dataset_std:.4f}\")\n",
    "\n",
    "# --- Create datasets with augmentations ---\n",
    "print(\"Creating training and test datasets with augmentations...\")\n",
    "train_transform = transforms.Compose([\n",
    "    transforms.RandomHorizontalFlip(p=0.5),\n",
    "    transforms.RandomRotation(degrees=10),\n",
    "    transforms.ColorJitter(brightness=0.1, contrast=0.1)\n",
    "])\n",
    "train_dataset = CTDataset(X_train, y_train, ct_volume, dataset_mean, dataset_std, transform=train_transform)\n",
    "test_dataset = CTDataset(X_test, y_test, ct_volume, dataset_mean, dataset_std, transform=None)\n",
    "print(f\"Train dataset size: {len(train_dataset)}\")\n",
    "print(f\"Test dataset size: {len(test_dataset)}\")\n",
    "\n",
    "batch_size = 16\n",
    "print(\"Creating DataLoaders...\")\n",
    "# For notebooks and CPU, we set num_workers=0\n",
    "train_loader = DataLoader(train_dataset, batch_size=batch_size, shuffle=True, num_workers=0)\n",
    "test_loader = DataLoader(test_dataset, batch_size=batch_size * 2, shuffle=False, num_workers=0)\n",
    "\n",
    "# --- Define the model ---\n",
    "print(\"Defining the model...\")\n",
    "class InceptionResNetCT(nn.Module):\n",
    "    def __init__(self):\n",
    "        super().__init__()\n",
    "        self.base_model = timm.create_model('inception_resnet_v2', pretrained=True, features_only=False)\n",
    "        # Modify the first convolution to accept 1-channel input instead of 3\n",
    "        original_conv = self.base_model.conv2d_1a.conv\n",
    "        self.base_model.conv2d_1a.conv = nn.Conv2d(\n",
    "            1, original_conv.out_channels,\n",
    "            kernel_size=original_conv.kernel_size,\n",
    "            stride=original_conv.stride,\n",
    "            padding=original_conv.padding,\n",
    "            bias=False\n",
    "        )\n",
    "        with torch.no_grad():\n",
    "            # Initialize the single-channel conv by averaging the weights of the original 3 channels\n",
    "            self.base_model.conv2d_1a.conv.weight[:, 0] = original_conv.weight.mean(dim=1)\n",
    "        # Enhanced classifier\n",
    "        num_features = self.base_model.classif.in_features\n",
    "        self.base_model.classif = nn.Sequential(\n",
    "            nn.Dropout(0.3),\n",
    "            nn.Linear(num_features, 256),\n",
    "            nn.ReLU(),\n",
    "            nn.Dropout(0.3),\n",
    "            nn.Linear(256, 1)\n",
    "        )\n",
    "\n",
    "    def forward(self, x):\n",
    "        return self.base_model(x).squeeze()\n",
    "\n",
    "device = torch.device('cpu')\n",
    "print(f\"Using device: {device}\")\n",
    "model = InceptionResNetCT().to(device)\n",
    "\n",
    "# --- Training setup ---\n",
    "print(\"Setting up training...\")\n",
    "# Compute positive class weight (assumes y_train is binary with 0s and 1s)\n",
    "pos_weight = torch.tensor([(len(y_train) - sum(y_train)) / sum(y_train)], device=device)\n",
    "criterion = nn.BCEWithLogitsLoss(pos_weight=pos_weight)\n",
    "optimizer = optim.AdamW(model.parameters(), lr=3e-4, weight_decay=1e-4)\n",
    "scheduler = optim.lr_scheduler.OneCycleLR(optimizer, max_lr=3e-4,\n",
    "                                          steps_per_epoch=len(train_loader), epochs=50)\n",
    "\n",
    "best_auc = 0\n",
    "patience = 0\n",
    "train_loss_history = []\n",
    "val_auc_history = []\n",
    "best_val_preds = None\n",
    "best_val_labels = None\n",
    "best_epoch = 0\n",
    "\n",
    "print(\"Starting training on CPU...\")\n",
    "for epoch in range(50):\n",
    "    model.train()\n",
    "    epoch_loss = 0\n",
    "    start_time = time.time()\n",
    "    print(f\"\\n=== Epoch {epoch+1} ===\")\n",
    "    \n",
    "    pbar = tqdm(enumerate(train_loader), total=len(train_loader), desc=f\"Epoch {epoch+1} Batches\")\n",
    "    for batch_idx, (inputs, labels) in pbar:\n",
    "        inputs, labels = inputs.to(device), labels.to(device)\n",
    "        optimizer.zero_grad()\n",
    "        outputs = model(inputs)\n",
    "        loss = criterion(outputs, labels)\n",
    "        loss.backward()\n",
    "        torch.nn.utils.clip_grad_norm_(model.parameters(), 1.0)\n",
    "        optimizer.step()\n",
    "        scheduler.step()\n",
    "        \n",
    "        epoch_loss += loss.item() * inputs.size(0)\n",
    "        pbar.set_postfix(loss=f\"{loss.item():.4f}\")\n",
    "    \n",
    "    epoch_loss /= len(train_dataset)\n",
    "    elapsed = time.time() - start_time\n",
    "    print(f\"Epoch {epoch+1} completed in {elapsed:.1f}s with average loss: {epoch_loss:.4f}\")\n",
    "    \n",
    "    # --- Validation ---\n",
    "    model.eval()\n",
    "    val_preds, val_labels = [], []\n",
    "    print(\"Running validation...\")\n",
    "    with torch.no_grad():\n",
    "        for inputs, labels in tqdm(test_loader, desc=\"Validation\", leave=False):\n",
    "            inputs = inputs.to(device)\n",
    "            outputs = model(inputs)\n",
    "            val_preds.extend(torch.sigmoid(outputs).cpu().numpy())\n",
    "            val_labels.extend(labels.cpu().numpy())\n",
    "    \n",
    "    try:\n",
    "        val_auc = roc_auc_score(val_labels, val_preds)\n",
    "    except Exception as e:\n",
    "        print(f\"Error calculating ROC AUC: {e}\")\n",
    "        val_auc = 0\n",
    "    train_loss_history.append(epoch_loss)\n",
    "    val_auc_history.append(val_auc)\n",
    "    print(f\"Epoch {epoch+1}: Train Loss: {epoch_loss:.4f} | Val AUC: {val_auc:.4f}\")\n",
    "    \n",
    "    if val_auc > best_auc:\n",
    "        best_auc = val_auc\n",
    "        best_epoch = epoch + 1\n",
    "        best_val_preds = val_preds\n",
    "        best_val_labels = val_labels\n",
    "        torch.save(model.state_dict(), 'best_model.pth')\n",
    "        print(\"Best model updated and saved as best_model.pth\")\n",
    "        patience = 0\n",
    "    else:\n",
    "        patience += 1\n",
    "        print(f\"No improvement. Patience: {patience}/50\")\n",
    "        if patience >= 50:\n",
    "            print(\"Early stopping triggered.\")\n",
    "            break\n",
    "\n",
    "# --- After training: Compute confusion matrix ---\n",
    "print(\"Computing confusion matrix for the best validation predictions...\")\n",
    "best_val_preds_binary = (np.array(best_val_preds) >= 0.5).astype(int)\n",
    "cm = confusion_matrix(best_val_labels, best_val_preds_binary)\n",
    "print(\"Confusion Matrix:\")\n",
    "print(cm)\n",
    "\n",
    "# --- Save comprehensive checkpoint ---\n",
    "print(\"Saving final checkpoint...\")\n",
    "checkpoint = {\n",
    "    'model_state_dict': model.state_dict(),\n",
    "    'optimizer_state_dict': optimizer.state_dict(),\n",
    "    'scheduler_state_dict': scheduler.state_dict(),\n",
    "    'best_auc': best_auc,\n",
    "    'best_epoch': best_epoch,\n",
    "    'train_loss_history': train_loss_history,\n",
    "    'val_auc_history': val_auc_history,\n",
    "    'best_val_preds': best_val_preds,\n",
    "    'best_val_labels': best_val_labels,\n",
    "    'confusion_matrix': cm,\n",
    "}\n",
    "torch.save(checkpoint, 'final_checkpoint.pth')\n",
    "print(\"Checkpoint saved to final_checkpoint.pth\")\n",
    "\n",
    "# --- Optimize for inference: Script the model (no half precision conversion for CPU) ---\n",
    "print(\"Optimizing model for inference...\")\n",
    "model.load_state_dict(torch.load('best_model.pth', map_location=device))\n",
    "model.eval()\n",
    "scripted_model = torch.jit.script(model)\n",
    "torch.jit.save(scripted_model, 'scripted_model.pt')\n",
    "print(\"Scripted model saved to scripted_model.pt\")\n"
   ]
  },
  {
   "cell_type": "code",
   "execution_count": 1,
   "metadata": {},
   "outputs": [
    {
     "ename": "NameError",
     "evalue": "name 'model' is not defined",
     "output_type": "error",
     "traceback": [
      "\u001b[1;31m---------------------------------------------------------------------------\u001b[0m",
      "\u001b[1;31mNameError\u001b[0m                                 Traceback (most recent call last)",
      "Cell \u001b[1;32mIn[1], line 12\u001b[0m\n\u001b[0;32m      9\u001b[0m root_folder \u001b[38;5;241m=\u001b[39m \u001b[38;5;124mr\u001b[39m\u001b[38;5;124m\"\u001b[39m\u001b[38;5;124mC:\u001b[39m\u001b[38;5;124m\\\u001b[39m\u001b[38;5;124mUsers\u001b[39m\u001b[38;5;124m\\\u001b[39m\u001b[38;5;124mBAPS\u001b[39m\u001b[38;5;124m\\\u001b[39m\u001b[38;5;124mDocuments\u001b[39m\u001b[38;5;124m\\\u001b[39m\u001b[38;5;124mDicom Analaysis\u001b[39m\u001b[38;5;124m\\\u001b[39m\u001b[38;5;124mDicom_Dataset\u001b[39m\u001b[38;5;124m\\\u001b[39m\u001b[38;5;124mSingle Sliced Dataset\u001b[39m\u001b[38;5;124m\\\u001b[39m\u001b[38;5;124mCMB-MML\u001b[39m\u001b[38;5;124m\\\u001b[39m\u001b[38;5;124mMSB-00140\u001b[39m\u001b[38;5;124m\"\u001b[39m\n\u001b[0;32m     11\u001b[0m \u001b[38;5;66;03m# Make sure your model is in evaluation mode\u001b[39;00m\n\u001b[1;32m---> 12\u001b[0m \u001b[43mmodel\u001b[49m\u001b[38;5;241m.\u001b[39meval()\n\u001b[0;32m     14\u001b[0m \u001b[38;5;66;03m# Set your device (e.g., cuda or cpu)\u001b[39;00m\n\u001b[0;32m     15\u001b[0m device \u001b[38;5;241m=\u001b[39m torch\u001b[38;5;241m.\u001b[39mdevice(\u001b[38;5;124m'\u001b[39m\u001b[38;5;124mcuda\u001b[39m\u001b[38;5;124m'\u001b[39m \u001b[38;5;28;01mif\u001b[39;00m torch\u001b[38;5;241m.\u001b[39mcuda\u001b[38;5;241m.\u001b[39mis_available() \u001b[38;5;28;01melse\u001b[39;00m \u001b[38;5;124m'\u001b[39m\u001b[38;5;124mcpu\u001b[39m\u001b[38;5;124m'\u001b[39m)\n",
      "\u001b[1;31mNameError\u001b[0m: name 'model' is not defined"
     ]
    }
   ],
   "source": [
    "import os\n",
    "import pydicom\n",
    "import numpy as np\n",
    "import torch\n",
    "import torch.nn.functional as F\n",
    "from tqdm import tqdm\n",
    "\n",
    "# Set the path to your root folder containing DICOM slices (and subfolders)\n",
    "root_folder = r\"C:\\Users\\BAPS\\Documents\\Dicom Analaysis\\Dicom_Dataset\\Single Sliced Dataset\\CMB-MML\\MSB-00140\"\n",
    "\n",
    "# Make sure your model is in evaluation mode\n",
    "model.eval()\n",
    "\n",
    "# Set your device (e.g., cuda or cpu)\n",
    "device = torch.device('cuda' if torch.cuda.is_available() else 'cpu')\n",
    "\n",
    "# IMPORTANT: Set these to your computed dataset mean and std\n",
    "dataset_mean = 0.5  # <-- replace with your actual mean\n",
    "dataset_std = 0.25  # <-- replace with your actual std\n",
    "\n",
    "# List to store slices that are predicted to be anomalous\n",
    "anomalies = []\n",
    "\n",
    "# Gather all file paths from the folder and its subdirectories\n",
    "all_file_paths = []\n",
    "for root, dirs, files in os.walk(root_folder):\n",
    "    for file in files:\n",
    "        all_file_paths.append(os.path.join(root, file))\n",
    "\n",
    "# Create a progress bar for all files\n",
    "progress_bar = tqdm(all_file_paths, desc=\"Processing DICOM slices\", ncols=100)\n",
    "\n",
    "for file_path in progress_bar:\n",
    "    # Try reading the file as a DICOM; if it fails, skip it.\n",
    "    try:\n",
    "        dicom_data = pydicom.dcmread(file_path)\n",
    "    except Exception:\n",
    "        continue\n",
    "\n",
    "    # Get the pixel array from the DICOM and convert to float32\n",
    "    ct_slice = dicom_data.pixel_array.astype(np.float32)\n",
    "    \n",
    "    # Normalize the slice to [0, 1]\n",
    "    ct_slice_norm = (ct_slice - np.min(ct_slice)) / (np.max(ct_slice) - np.min(ct_slice) + 1e-8)\n",
    "    \n",
    "    # Convert the normalized slice to a PyTorch tensor and add a channel dimension: [1, H, W]\n",
    "    ct_tensor = torch.tensor(ct_slice_norm).unsqueeze(0)  # shape: [1, H, W]\n",
    "    \n",
    "    # Resize the tensor to 299x299 using F.interpolate.\n",
    "    # First, add a batch dimension so the shape becomes [1, 1, H, W]\n",
    "    ct_tensor = ct_tensor.unsqueeze(0)\n",
    "    ct_tensor = F.interpolate(ct_tensor, size=(299, 299), mode='bilinear', align_corners=False)\n",
    "    # Remove the batch dimension so it's back to [1, 299, 299]\n",
    "    ct_tensor = ct_tensor.squeeze(0)\n",
    "    \n",
    "    # Apply standardization using the dataset mean and std (same as in your training)\n",
    "    ct_tensor = (ct_tensor - dataset_mean) / dataset_std\n",
    "    \n",
    "    # Add a batch dimension: [1, 1, 299, 299] and move to the correct device\n",
    "    ct_tensor = ct_tensor.unsqueeze(0).to(device)\n",
    "    \n",
    "    # Run model inference\n",
    "    with torch.no_grad():\n",
    "        output = model(ct_tensor).squeeze()  # output is the logit\n",
    "    probability = torch.sigmoid(output).item()  # convert logit to probability\n",
    "    prediction = 1 if probability > 0.5 else 0  # threshold at 0.5\n",
    "    \n",
    "    # Update the progress bar with the current file's info\n",
    "    progress_bar.set_postfix_str(f\"File: {os.path.basename(file_path)} | Pred: {prediction} | Prob: {probability:.4f}\")\n",
    "    \n",
    "    # Save details if an anomaly is detected\n",
    "    if prediction == 1:\n",
    "        anomalies.append((file_path, probability))\n",
    "\n",
    "# Print a summary of slices with potential anomalies\n",
    "print(\"\\nAnomalies detected in the following slices:\")\n",
    "if anomalies:\n",
    "    for path, prob in anomalies:\n",
    "        print(f\"{path} - Probability: {prob:.4f}\")\n",
    "else:\n",
    "    print(\"No anomalies detected in the provided folder and its subfolders.\")\n"
   ]
  },
  {
   "cell_type": "code",
   "execution_count": null,
   "metadata": {},
   "outputs": [],
   "source": []
  }
 ],
 "metadata": {
  "kernelspec": {
   "display_name": "myenv",
   "language": "python",
   "name": "python3"
  },
  "language_info": {
   "codemirror_mode": {
    "name": "ipython",
    "version": 3
   },
   "file_extension": ".py",
   "mimetype": "text/x-python",
   "name": "python",
   "nbconvert_exporter": "python",
   "pygments_lexer": "ipython3",
   "version": "3.11.0"
  }
 },
 "nbformat": 4,
 "nbformat_minor": 2
}
